{
  "cells": [
    {
      "cell_type": "markdown",
      "metadata": {
        "colab_type": "text",
        "id": "view-in-github"
      },
      "source": [
        "<a href=\"https://colab.research.google.com/github/andreacangiani/NSPDE-ANA2023/blob/main/Python/C5.ipynb\" target=\"_parent\"><img src=\"https://colab.research.google.com/assets/colab-badge.svg\" alt=\"Open In Colab\"/></a>"
      ]
    },
    {
      "cell_type": "markdown",
      "metadata": {
        "id": "zB4VXUN-IBC6"
      },
      "source": [
        "# Finite Element Method in 1D"
      ]
    },
    {
      "cell_type": "markdown",
      "metadata": {
        "id": "yuQpsduuIGBS"
      },
      "source": [
        "1. Linear ($k=1$) Finite Element Method solver for the 1D Poisson problem:\n",
        "\n",
        "$-u''=f \\quad \\in \\Omega=(a,b)^2$\n",
        "\n",
        "$u(a)=0=u(b)$"
      ]
    },
    {
      "cell_type": "markdown",
      "metadata": {
        "id": "3uZh9S5ZIYZi"
      },
      "source": [
        "Import usual modules"
      ]
    },
    {
      "cell_type": "code",
      "execution_count": 1,
      "metadata": {
        "id": "7ECrogObH7yZ"
      },
      "outputs": [],
      "source": [
        "import numpy as np\n",
        "import matplotlib.pyplot as plt\n",
        "import scipy.sparse as sp\n",
        "from scipy.sparse.linalg import spsolve\n",
        "from scipy.sparse.linalg import eigsh"
      ]
    },
    {
      "cell_type": "markdown",
      "metadata": {
        "id": "ZA-GnWjJIj2F"
      },
      "source": [
        "FEM system assembly with trapezoidal rule for rhs"
      ]
    },
    {
      "cell_type": "code",
      "execution_count": 5,
      "metadata": {
        "id": "WpXoSBYkIpZv"
      },
      "outputs": [],
      "source": [
        "def FEM1_1D_TRAP(omega,N,rhs):\n",
        "  # 1D FEM with k=1 system matrix and rhs for\n",
        "  # diffusion problem with homogeneous Dirichlet bc\n",
        "  # trapezoidal rule uniform grid\n",
        "\n",
        "  # grid is defined here as uni\n",
        "  h = (omega[1]-omega[0])/N\n",
        "  vertices = np.linspace(omega[0],omega[1],N+1)\n",
        "\n",
        "  # initialise system\n",
        "  A = sp.lil_matrix((N+1,N+1)) ## lil is much more efficient when writing wrt csr\n",
        "  F = np.zeros(N+1)\n",
        "\n",
        "  # Assembly loop\n",
        "  for i in range(0,N):\n",
        "    # local contributions\n",
        "    A_ele = np.matrix([[1/h, -1/h],[-1/h,1/h]]) ## small 2x2 matrix \n",
        "    F_ele = 0.5 * h * rhs(vertices[i:i+2]) ## small 2 vector \n",
        "    ## we now need to distribute those in the big matrix \n",
        "\n",
        "    #assembly local-to-global\n",
        "    A[i:i+2,i:i+2] += A_ele\n",
        "    F[i:i+2] += F_ele\n",
        "  \n",
        "  # Apply boundary conditions\n",
        "  A[0,0] = 1/h; A[0,1] = 0; F[0] = 0  ## good for conditioning to set A[0,0] = 1/h\n",
        "  A[N,N] = 1/h; A[N,N-1] = 0; F[N] = 0\n",
        "\n",
        "  # return system matrix and rhs vector\n",
        "  return A, F"
      ]
    },
    {
      "cell_type": "markdown",
      "metadata": {
        "id": "Lk6jlfygJX9c"
      },
      "source": [
        "Define FEM problem and solve"
      ]
    },
    {
      "cell_type": "code",
      "execution_count": 7,
      "metadata": {
        "id": "Haoo0fWRJbLa"
      },
      "outputs": [
        {
          "name": "stdout",
          "output_type": "stream",
          "text": [
            "8.225076221068939e-05\n"
          ]
        },
        {
          "data": {
            "image/png": "[encoded data removed]",
            "text/plain": [
              "<Figure size 640x480 with 1 Axes>"
            ]
          },
          "metadata": {},
          "output_type": "display_data"
        }
      ],
      "source": [
        "\n",
        "omega = [0,np.pi]\n",
        "rhs = lambda x: np.sin(x)\n",
        "exact = lambda x: np.sin(x)\n",
        "\n",
        "N=100; \n",
        "n_qpoints = 3\n",
        "\n",
        "# call function computing FEM system\n",
        "A,F = FEM1_1D_TRAP(omega,N,rhs)\n",
        "\n",
        "# solve\n",
        "A = A.tocsr() ## csr format is much faster in solving\n",
        "Uh = spsolve(A,F)\n",
        "\n",
        "# Evaluate exact solution at grid nodes\n",
        "x = np.linspace(omega[0],omega[1],N+1)\n",
        "U = exact(x)\n",
        "\n",
        "# Plot solutions\n",
        "plt.plot(x,Uh)\n",
        "plt.plot(x,U)\n",
        "\n",
        "# compute discrete max norm error \n",
        "print(np.max(np.abs(U-Uh)))"
      ]
    },
    {
      "cell_type": "markdown",
      "metadata": {
        "id": "H4eLL1bxKjxA"
      },
      "source": [
        "2. Repeat exercise but for the non-homogeneous Dirichlet conditions, so:\n",
        "\n",
        "$-u''=f \\quad \\in \\Omega=(a,b)^2$\n",
        "\n",
        "$u(a)=g(a)$ and $u(b)=g(b)$\n",
        "\n",
        "for $g$ a given function.\n",
        "\n",
        "Also:\n",
        "- allow for nonuniform grid\n",
        "- use reference element to assemble \n",
        "- to compute the rhs, use arbitrary order Gauss integration"
      ]
    },
    {
      "cell_type": "code",
      "execution_count": null,
      "metadata": {
        "id": "K76sA6orKq44"
      },
      "outputs": [],
      "source": [
        "# Gauss quadrature formula on [0,1]\n",
        "def quadrature(n_quadrature_points):\n",
        "\n",
        "  # exploit numpy Gauss quadrature. This is defined in [-1,1]\n",
        "  q, w = np.polynomial.legendre.leggauss(n_quadrature_points)\n",
        "\n",
        "  return (q+1)/2, w/2"
      ]
    },
    {
      "cell_type": "markdown",
      "metadata": {
        "id": "dXYP11H2WI73"
      },
      "source": [
        "Function defining the mesh"
      ]
    },
    {
      "cell_type": "code",
      "execution_count": null,
      "metadata": {
        "id": "Lwu1e4TsVyjA"
      },
      "outputs": [],
      "source": [
        "def mesh(omega,N):\n",
        "  return np.linspace(omega[0],omega[1],N+1)"
      ]
    },
    {
      "cell_type": "markdown",
      "metadata": {
        "id": "5ggpOGCCKx0e"
      },
      "source": [
        "Define reference element transformation of coordinates"
      ]
    },
    {
      "cell_type": "code",
      "execution_count": null,
      "metadata": {
        "id": "EbTQ7oWvKw4O"
      },
      "outputs": [],
      "source": [
        "# Transformation of coordinates functions:\n",
        "# reference element -> current element\n",
        "# [0,1] -> [q[i], q[i+1]]\n",
        "\n",
        "def mapping(q, i):\n",
        "    # check index is within range\n",
        "    assert i < len(q)-1\n",
        "    assert i >= 0\n",
        "    return lambda x: q[i]+x*(q[i+1]-q[i])\n",
        "\n",
        "\n",
        "def mapping_J(q,i):\n",
        "    assert i < len(q)-1\n",
        "    assert i >= 0\n",
        "    return q[i+1]-q[i]\n",
        "\n",
        "\n",
        "# Linear lagrange basis on reference element\n",
        "def basis1(i):\n",
        "    assert i < 2\n",
        "    assert i >= 0\n",
        "    if i == 0:\n",
        "        phi = lambda x: 1-x\n",
        "    else:\n",
        "        phi = lambda x: x\n",
        "    return phi\n",
        "\n",
        "\n",
        "# Linear lagrange basis derivatives on reference element\n",
        "def basis1_derivative(i):\n",
        "    assert i < 2\n",
        "    assert i >= 0\n",
        "    if i == 0:\n",
        "        dphi = lambda x: -np.ones(len(x))\n",
        "    else:\n",
        "        dphi = lambda x: np.ones(len(x))\n",
        "    return dphi\n"
      ]
    },
    {
      "cell_type": "markdown",
      "metadata": {
        "id": "HYYC2YknLOxP"
      },
      "source": [
        "FEM system assembly with Gauss integration\n",
        "\n"
      ]
    },
    {
      "cell_type": "code",
      "execution_count": null,
      "metadata": {
        "id": "-wIMV3GKLKUa"
      },
      "outputs": [],
      "source": [
        "def FEM1_1D_GAUSS(omega,N,n_qpoints,rhs):\n",
        "  # 1D FEM with k=1 system matrix and rhs\n",
        "\n",
        "  # grid\n",
        "  vertices = mesh(omega,N)\n",
        "\n",
        "  # quadrature formula on reference element\n",
        "  q,w = quadrature(n_qpoints)\n",
        "\n",
        "  # Evaluation of linear Lagrange basis \n",
        "  phi = \n",
        "  dphi = \n",
        "\n",
        "  # initialise system\n",
        "\n",
        "  # Assembly loop\n",
        "  for i in range(N):\n",
        "\n",
        "  # return system matrix and rhs vector\n",
        "  return A, F"
      ]
    },
    {
      "cell_type": "markdown",
      "metadata": {
        "id": "3M2vdz58L3ws"
      },
      "source": [
        "Function implementing the boundary (nonhomogeneous) Dirichlet conditions. (Similar to FD code, but boundary condition given by sunction $g$!)"
      ]
    },
    {
      "cell_type": "code",
      "execution_count": null,
      "metadata": {
        "id": "S4MWcm1wMIgr"
      },
      "outputs": [],
      "source": [
        "def apply_boundary_conditions(omega,N, A, F, g):\n"
      ]
    },
    {
      "cell_type": "markdown",
      "metadata": {
        "id": "DBzkZQxjMcQb"
      },
      "source": [
        "Define FEM problem and solve"
      ]
    },
    {
      "cell_type": "code",
      "execution_count": null,
      "metadata": {
        "id": "OAlSKDRFMX_g"
      },
      "outputs": [],
      "source": [
        "omega = [0,1]\n",
        "rhs = lambda x: np.sin(x)\n",
        "sol = lambda x: np.sin(x)\n",
        "\n",
        "# Initialise error vector\n",
        "Err = np.zeros(7)\n",
        "NN = np.zeros(7)\n",
        "Cond = np.zeros(7)\n",
        "\n",
        "for i in range(7):\n",
        "  N = 2**(i+2)\n",
        "  NN[i] = N\n",
        "  n_qpoints = 1\n",
        "\n",
        "  # call function computing FEM system\n",
        "\n",
        "  # solve\n",
        "\n",
        "  #condition number of Stiffness matrix\n",
        "\n",
        "  # Evaluate exact solution at grid nodes\n",
        "\n",
        "  # Compute errors \n",
        "\n",
        "  # Plot error"
      ]
    },
    {
      "cell_type": "markdown",
      "metadata": {
        "id": "ATHWTUKJSNP6"
      },
      "source": [
        "Function computing $H^1$-norm error"
      ]
    },
    {
      "cell_type": "code",
      "execution_count": null,
      "metadata": {
        "id": "5ij1-L_NSZaV"
      },
      "outputs": [],
      "source": [
        "def FEM1_H1(omega,N,n_qpoints,Uh,sol):\n",
        "  # H1 error\n",
        "\n",
        "  # grid\n",
        "\n",
        "  # quadrature formula on reference element\n",
        "\n",
        "\n",
        "  # Evaluation of linear Lagrange basis \n",
        "\n",
        "\n",
        "  # initialise value of norm of error\n",
        "\n",
        "\n",
        "  # Assembly error\n",
        "  \n",
        "\n",
        "  # Return error\n"
      ]
    },
    {
      "cell_type": "markdown",
      "metadata": {
        "id": "wzuVFLYsXgec"
      },
      "source": [
        "**Exercise 1**: Try code with nonuniform grid "
      ]
    },
    {
      "cell_type": "markdown",
      "metadata": {
        "id": "Cxeu1oSRXpFr"
      },
      "source": [
        "**Exercise 2**: Write code solving general reaction-advection-diffusion problems"
      ]
    }
  ],
  "metadata": {
    "colab": {
      "authorship_tag": "ABX9TyOw/6N8nsjipsBY95oIFejs",
      "include_colab_link": true,
      "name": "C4.ipynb",
      "provenance": []
    },
    "kernelspec": {
      "display_name": "Python 3",
      "name": "python3"
    },
    "language_info": {
      "codemirror_mode": {
        "name": "ipython",
        "version": 3
      },
      "file_extension": ".py",
      "mimetype": "text/x-python",
      "name": "python",
      "nbconvert_exporter": "python",
      "pygments_lexer": "ipython3",
      "version": "3.10.8"
    }
  },
  "nbformat": 4,
  "nbformat_minor": 0
}
