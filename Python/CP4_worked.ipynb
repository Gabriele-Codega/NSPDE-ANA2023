{
  "nbformat": 4,
  "nbformat_minor": 0,
  "metadata": {
    "colab": {
      "name": "C3-FD2D.ipynb",
      "provenance": [],
      "include_colab_link": true
    },
    "kernelspec": {
      "name": "python3",
      "display_name": "Python 3"
    },
    "language_info": {
      "name": "python"
    }
  },
  "cells": [
    {
      "cell_type": "markdown",
      "metadata": {
        "id": "view-in-github",
        "colab_type": "text"
      },
      "source": [
        "<a href=\"https://colab.research.google.com/github/andreacangiani/NSPDE-ANA2023/blob/main/Python/CP4_worked.ipynb\" target=\"_parent\"><img src=\"https://colab.research.google.com/assets/colab-badge.svg\" alt=\"Open In Colab\"/></a>"
      ]
    },
    {
      "cell_type": "markdown",
      "source": [
        "# Finite Difference in 2D"
      ],
      "metadata": {
        "id": "pIwHkV0G1O28"
      }
    },
    {
      "cell_type": "markdown",
      "source": [
        "1. Finite Difference solver for the 2D Poisson problem:\n",
        "\n",
        "$-\\Delta u=f \\quad \\in \\Omega=(a,b)^2$\n",
        "\n",
        "$u|_{\\partial\\Omega}=0$"
      ],
      "metadata": {
        "id": "1d8zfQGR1NRQ"
      }
    },
    {
      "cell_type": "code",
      "execution_count": 1,
      "metadata": {
        "id": "-JCGOvap0RHX"
      },
      "outputs": [],
      "source": [
        "import numpy as np\n",
        "import matplotlib.pyplot as plt\n",
        "from matplotlib import cm\n",
        "import scipy.sparse as sp\n",
        "from scipy.sparse.linalg import spsolve"
      ]
    },
    {
      "cell_type": "markdown",
      "source": [
        "Function computing the 2D FD algebric system"
      ],
      "metadata": {
        "id": "68WnP9Sw1bXx"
      }
    },
    {
      "cell_type": "code",
      "source": [
        "def FD2D(omega,N,rhs):\n",
        "  # FD system matrix and rhs in omega^2 for\n",
        "  # diffusion-advection-reaction problem with coeffs\n",
        "  # alpha,beta,gamma,rhs\n",
        "  # homogeneous Dirichlet bc\n",
        "  # uniform grid in sparse CSR format\n",
        "  # with Nx = Ny = N\n",
        "\n",
        "  # x and y axis grid\n",
        "  h = (omega[1]-omega[0])/N\n",
        "  x = np.linspace(omega[0],omega[1],N+1)\n",
        "  y = x\n",
        "  # 2-dim grid\n",
        "  X, Y = np.meshgrid(x, y)\n",
        "\n",
        "  X = X.flatten() \n",
        "  Y = Y.flatten()\n",
        "\n",
        "  # compute rhs\n",
        "  F = rhs(X,Y)\n",
        "  \n",
        "  # compute system matrix\n",
        "  # -(1/h^2) (U_{i,j-1}  +U_{i-1,j})     - 4 * U_{i,j}  +   U_{i+1,j} + U_{i,j+1} )  \n",
        "  coefs = [-np.ones((N+1)*N),-np.ones((N+1)*(N+1)-1),4*np.ones((N+1)*(N+1)),-np.ones((N+1)*(N+1)-1),-np.ones((N+1)*N)]\n",
        "  A = sp.diags(coefs,[-(N+1),-1,0,1,N+1],format=\"csr\")\n",
        "\n",
        "  # Implement boundary conditions\n",
        "  for i in range(N+1) :\n",
        "    A[i,A[i].nonzero()] = 0; A[i,i] = 1; F[i] = 0\n",
        "    j = (N+1) * N + i\n",
        "    A[j,A[j].nonzero()] = 0; A[j,j] = 1; F[j] = 0\n",
        "\n",
        "  for i in range(1,N) :\n",
        "    j = i * (N+1)\n",
        "    A[j,A[j].nonzero()] = 0; A[j,j] = 1; F[j] = 0\n",
        "    j = i * (N+1) + N\n",
        "    A[j,A[j].nonzero()] = 0; A[j,j] = 1; F[j] = 0\n",
        "\n",
        "  return (1./h**2) * A, F"
      ],
      "metadata": {
        "id": "4_0d_cDa1A9Q"
      },
      "execution_count": 6,
      "outputs": []
    },
    {
      "cell_type": "markdown",
      "source": [
        "Define FD problem and solve with $(a,b)=(0,\n",
        "pi)$ and \n",
        "\n",
        "$u(x,y)=sin(x)*sin(y)$ \n",
        "\n",
        "hence \n",
        "\n",
        "$f=2* sin(x)*sin(y)$"
      ],
      "metadata": {
        "id": "RU2r9BNw1fCh"
      }
    },
    {
      "cell_type": "code",
      "source": [
        "omega = [0,np.pi]\n",
        "N = 50\n",
        "rhs = lambda x, y : 2*np.sin(x)*np.sin(y)\n",
        "exact = lambda x, y : np.sin(x)*np.sin(y)\n",
        "\n",
        "# call function computing FD system\n",
        "A, F = FD2D(omega,N,rhs)\n",
        "\n",
        "# solve\n",
        "A = A.tocsr()\n",
        "Uh = spsolve(A,F)\n"
      ],
      "metadata": {
        "id": "dpkgjfic1fwa"
      },
      "execution_count": 11,
      "outputs": []
    },
    {
      "cell_type": "markdown",
      "source": [
        "Plot solution"
      ],
      "metadata": {
        "id": "dTl-r4WJonGx"
      }
    },
    {
      "cell_type": "code",
      "source": [
        "# Prepare data for plotting \n",
        "x = np.linspace(omega[0],omega[1],N+1)\n",
        "y = x\n",
        "X, Y = np.meshgrid(x, y)\n",
        "Uh = Uh.reshape((N+1),(N+1))\n",
        "\n",
        "# Plot the solution\n",
        "fig, ax = plt.subplots(subplot_kw={\"projection\": \"3d\"})\n",
        "surf = ax.plot_surface(X, Y, Uh, cmap=cm.coolwarm,\n",
        "                       linewidth=0, antialiased=False)\n",
        "\n",
        "plt.show()"
      ],
      "metadata": {
        "id": "Vm8cfsRcolY3",
        "colab": {
          "base_uri": "https://localhost:8080/",
          "height": 257
        },
        "outputId": "9ad6b236-ea2d-4cb2-e4ed-d524b77e9d6a"
      },
      "execution_count": 12,
      "outputs": [
        {
          "output_type": "display_data",
          "data": {
            "text/plain": [
              "<Figure size 432x288 with 1 Axes>"
            ],
            "image/png": "[encoded data removed]"
          },
          "metadata": {
            "needs_background": "light"
          }
        }
      ]
    },
    {
      "cell_type": "markdown",
      "source": [
        "Compute discrete max norm error"
      ],
      "metadata": {
        "id": "1UmjdvJSpUa_"
      }
    },
    {
      "cell_type": "code",
      "source": [
        "# compute exact sol\n",
        "U = exact(X,Y)\n",
        "\n",
        "# Print discrete error\n",
        "print(np.max(np.max(np.abs(U-Uh))))"
      ],
      "metadata": {
        "id": "nPlZLHBZpZKn",
        "colab": {
          "base_uri": "https://localhost:8080/"
        },
        "outputId": "c640e585-9cbc-496b-a42a-f16deb1d0e5e"
      },
      "execution_count": 13,
      "outputs": [
        {
          "output_type": "stream",
          "name": "stdout",
          "text": [
            "0.0003290517629235268\n"
          ]
        }
      ]
    },
    {
      "cell_type": "markdown",
      "source": [
        "**Exercise 1**: Compute error and EOC\n",
        "\n",
        "**Exercise 2**: Generalise to more general elliptic problems (PDE and boundary) conditions"
      ],
      "metadata": {
        "id": "A7opZGIcqF3s"
      }
    }
  ]
}