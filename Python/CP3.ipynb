{
  "cells": [
    {
      "cell_type": "markdown",
      "metadata": {
        "colab_type": "text",
        "id": "view-in-github"
      },
      "source": [
        "<a href=\"https://colab.research.google.com/github/andreacangiani/NSPDE-ANA2023/blob/main/Python/CP3.ipynb\" target=\"_parent\"><img src=\"https://colab.research.google.com/assets/colab-badge.svg\" alt=\"Open In Colab\"/></a>"
      ]
    },
    {
      "cell_type": "markdown",
      "metadata": {
        "id": "EYPTFFAQN3BY"
      },
      "source": [
        "# Finite Difference for 1D reaction-advection-diffusion problem"
      ]
    },
    {
      "cell_type": "markdown",
      "metadata": {
        "id": "VXF0WBPFNRtO"
      },
      "source": [
        "1. Finite Difference solver for the reaction-advection-diffusion problem:\n",
        "\n",
        "$-\\alpha u''(x)+\\beta u'(x)+\\gamma u(x)=f(x) \\quad \\in (a,b)$\n",
        "\n",
        "$u(a)=0, \\quad u(b)=0$"
      ]
    },
    {
      "cell_type": "code",
      "execution_count": 1,
      "metadata": {
        "id": "cVTxIyM7NFyh"
      },
      "outputs": [],
      "source": [
        "import numpy as np\n",
        "import matplotlib.pyplot as plt\n",
        "import scipy.sparse as sp\n",
        "from scipy.sparse.linalg import spsolve"
      ]
    },
    {
      "cell_type": "markdown",
      "metadata": {
        "id": "SRJ5pqdRPUtH"
      },
      "source": [
        "Function computing the 1D FD algebric system"
      ]
    },
    {
      "cell_type": "code",
      "execution_count": 2,
      "metadata": {
        "id": "vdKU9vmTOI72"
      },
      "outputs": [],
      "source": [
        "def FD1D(omega,N,alpha,beta,gamma,rhs):\n",
        "  # FD system matrix and rhs for\n",
        "  # diffusion-advection-reaction problem with coeffs\n",
        "  # alpha,beta,gamma,rhs\n",
        "  # homogeneous Dirichlet bc\n",
        "  # uniform grid in sparse CSR format\n",
        "  # over domain omega\n",
        "\n",
        "  # grid\n",
        "  h = (omega[1]-omega[0])/N\n",
        "  x = np.linspace(omega[0],omega[1],N+1)\n",
        "\n",
        "  # compute rhs\n",
        "  f = rhs(x[1:-1])\n",
        "  \n",
        "  # evaluate PDE coeffs\n",
        "  diff = alpha(x)\n",
        "  conv = beta(x)\n",
        "  reac = gamma(x)\n",
        "\n",
        "  # compute diagonal entries\n",
        "  diff_term = [-diff[1:N+1],2*diff,-diff[0:-1]]\n",
        "  conv_term = [-conv[1:N+1],conv[0:-1]]\n",
        "  reac_term = reac\n",
        "\n",
        "  # compute systmen matrix\n",
        "  A = 1/(h*h) * sp.diags(diff_term,[-1,0,1],format=\"csr\") + 1/(2*h) * sp.diags(conv_term,[-1,1],format=\"csr\") + sp.diags(reac_term,format=\"csr\")\n",
        "\n",
        "  # apply boundary conditions\n",
        "\n",
        "  return A[1:-1,1:-1],f"
      ]
    },
    {
      "cell_type": "markdown",
      "metadata": {
        "id": "kmjRdyh3PcKK"
      },
      "source": [
        "Define FD problem and solve"
      ]
    },
    {
      "cell_type": "code",
      "execution_count": 25,
      "metadata": {
        "id": "6W46kuk6PguW"
      },
      "outputs": [
        {
          "data": {
            "text/plain": [
              "[<matplotlib.lines.Line2D at 0x7fa0252d70d0>]"
            ]
          },
          "execution_count": 25,
          "metadata": {},
          "output_type": "execute_result"
        },
        {
          "data": {
            "image/png": "[encoded data removed]",
            "text/plain": [
              "<Figure size 640x480 with 1 Axes>"
            ]
          },
          "metadata": {},
          "output_type": "display_data"
        }
      ],
      "source": [
        "# Problem domain\n",
        "omega = [0,1]\n",
        "\n",
        "alpha = lambda x : (1.) * np.ones(len(x))\n",
        "beta = lambda x :  1 * np.ones(len(x))\n",
        "gamma = lambda x : 1 * np.ones(len(x))\n",
        "rhs = lambda x :   1. * np.ones(len(x))\n",
        "\n",
        "# Grid parameters\n",
        "N=14\n",
        "h = (omega[1]-omega[0])/N\n",
        "\n",
        "# FD system\n",
        "A, F = FD1D(omega,N,alpha,beta,gamma,rhs)\n",
        "\n",
        "\n",
        "# solve\n",
        "Uh = spsolve(A,F) \n",
        "\n",
        "# insert boundary conditions\n",
        "Uh = np.insert(Uh,[0,N-1],(0,0))\n",
        "\n",
        "# plot solution\n",
        "x = np.linspace(omega[0],omega[1],N+1)\n",
        "plt.plot(x,Uh)"
      ]
    },
    {
      "cell_type": "markdown",
      "metadata": {
        "id": "shVPIPkmTlQy"
      },
      "source": [
        "Repeat exercise with larger system including boundary conditions"
      ]
    },
    {
      "cell_type": "code",
      "execution_count": 26,
      "metadata": {
        "id": "Csg0gbiITqSg"
      },
      "outputs": [],
      "source": [
        "def FD1Do(omega,N,alpha,beta,gamma,rhs):\n",
        "  # FD system matrix and rhs for\n",
        "  # diffusion-advection-reaction problem with coeffs\n",
        "  # alpha,beta,gamma,rhs\n",
        "  # homogeneous Dirichlet bc\n",
        "  # uniform grid in sparse CSR format\n",
        "\n",
        "  # grid\n",
        "  h = (omega[1]-omega[0])/N\n",
        "  x = np.linspace(omega[0],omega[1],N+1)\n",
        "\n",
        "  # compute coeffs\n",
        "  diff = alpha(x)\n",
        "  conv = beta(x)\n",
        "  reac = gamma(x)\n",
        "  F = rhs(x)\n",
        "\n",
        "  diff_term = [-diff[1:N+1],2*diff,-diff[0:-1]]\n",
        "  conv_term = [-conv[1:N+1],conv[0:-1]]\n",
        "  reac_term = reac\n",
        "  \n",
        "  A = 1/(h*h) * sp.diags(diff_term,[-1,0,1],format=\"csr\") + 1/(2*h) * sp.diags(conv_term,[-1,1],format=\"csr\") + sp.diags(reac_term,format=\"csr\")\n",
        "\n",
        "  # modify system to account for homogeneous Dirichlet boundary conditions\n",
        "  A[0,0] = 1; A[0,1] = 0; F[0] = 0\n",
        "  A[-1,-1] = 1; A[-1,-2] = 0; F[-1] = 0\n",
        "  return A, F"
      ]
    },
    {
      "cell_type": "markdown",
      "metadata": {
        "id": "gRfVSvNTJg03"
      },
      "source": [
        "Solve again with new routine"
      ]
    },
    {
      "cell_type": "code",
      "execution_count": 32,
      "metadata": {
        "id": "ZOZf2ZiTJjO5"
      },
      "outputs": [
        {
          "data": {
            "text/plain": [
              "[<matplotlib.lines.Line2D at 0x7fa025a204f0>]"
            ]
          },
          "execution_count": 32,
          "metadata": {},
          "output_type": "execute_result"
        },
        {
          "data": {
            "image/png": "[encoded data removed]",
            "text/plain": [
              "<Figure size 640x480 with 1 Axes>"
            ]
          },
          "metadata": {},
          "output_type": "display_data"
        }
      ],
      "source": [
        "# Problem domain\n",
        "omega = [0,np.pi]\n",
        "\n",
        "alpha = lambda x : .01 * np.ones(len(x))\n",
        "beta = lambda x :  1. * np.ones(len(x))\n",
        "gamma = lambda x : 1. * np.ones(len(x))\n",
        "rhs = lambda x :   1. * np.ones(len(x))\n",
        "\n",
        "# Grid parameters\n",
        "N=100\n",
        "h = (omega[1]-omega[0])/N\n",
        "\n",
        "# FD system\n",
        "A, F = FD1Do(omega,N,alpha,beta,gamma,rhs)\n",
        "\n",
        "# solve\n",
        "U = spsolve(A,F)\n",
        "\n",
        "# plot solution\n",
        "x = np.linspace(omega[0],omega[1],N+1)\n",
        "plt.plot(x,U)"
      ]
    },
    {
      "cell_type": "markdown",
      "metadata": {
        "id": "ohPbdO6sTsaw"
      },
      "source": [
        "Compute experimental order of convergence (EOC) using knowledge that \n",
        "\n",
        "$|| U-U_h ||_\\infty \\approx C h^k$\n",
        "\n",
        "with $C$ independent of $h$. Hence,\n",
        "\n",
        "$\\frac{|| U-U_{h_1} ||_\\infty}{|| U-U_{h_2} ||_\\infty}\\approx\\large(\\frac{h_1}{h_1}\\large)^k$,\n",
        "\n",
        "and then,\n",
        "\n",
        "$k\\approx\\frac{\\log || U-U_{h_1} ||_\\infty-\\log|| U-U_{h_2} ||_\\infty}{\\log h_1 - \\log h_2}$.\n",
        "\n",
        "Notice that to estimate the EOC you need to run at least two experiments, for instance with $h_1=h$, $h_2=h/2$."
      ]
    },
    {
      "cell_type": "code",
      "execution_count": 3,
      "metadata": {
        "id": "34lm792MXmOu"
      },
      "outputs": [
        {
          "name": "stdout",
          "output_type": "stream",
          "text": [
            "1.9491170242966338\n",
            "2.005349249284457\n",
            "2.001335495008629\n",
            "2.0003337603239038\n",
            "2.0000834328344603\n",
            "2.0000208643954394\n",
            "2.000005321316897\n",
            "2.000000275676347\n",
            "1.9999793276108875\n",
            "1.999888502471435\n",
            "2.0008925689287156\n"
          ]
        }
      ],
      "source": [
        "# Problem domain\n",
        "omega = [0,np.pi]\n",
        "\n",
        "alpha = lambda x : 1. * np.ones(len(x))\n",
        "beta = lambda x :  0. * np.ones(len(x))\n",
        "gamma = lambda x : 0. * np.ones(len(x))\n",
        "rhs =   lambda x : np.sin(x)\n",
        "sol =   lambda x : np.sin(x)\n",
        "\n",
        "# Fix number of experiments\n",
        "no_experiments = 12\n",
        "\n",
        "# initialise with first experiment\n",
        "N = 5\n",
        "h = (omega[1]-omega[0])/N\n",
        "x = np.linspace(omega[0],omega[1],N+1)\n",
        "\n",
        "# evaluate system for given N\n",
        "A, F = FD1D(omega,N,alpha,beta,gamma,rhs)\n",
        "# Solve\n",
        "U1 = sp.linalg.spsolve(A,F)\n",
        "# compute error\n",
        "err1 = np.linalg.norm(sol(x[1:-1])-U1,ord=np.inf)\n",
        "\n",
        "for i in range(no_experiments-1):\n",
        "  # fix the mesh\n",
        "  N= 2 * N\n",
        "  h2 = (omega[1]-omega[0])/N\n",
        "  x = np.linspace(omega[0],omega[1],N+1)\n",
        "  # evaluate system for given N\n",
        "  A, F = FD1D(omega,N,alpha,beta,gamma,rhs)\n",
        "  # Solve\n",
        "  U = sp.linalg.spsolve(A,F)\n",
        "  # Compute error \n",
        "  err2 = np.linalg.norm(sol(x[1:-1])-U,ord=np.inf)\n",
        "  k = (np.log(err1)-np.log(err2))/(np.log(h)-np.log(h2))\n",
        "  # Update\n",
        "  h = h2\n",
        "  err1 = err2\n",
        "  print(k)\n",
        "\n",
        "\n"
      ]
    },
    {
      "cell_type": "markdown",
      "metadata": {
        "id": "1qj6q7X1Xmwm"
      },
      "source": [
        "What if the exact solution is not known? Then we can still estiate the EOC but three experiments. Indeed, letting $h_2=\\theta h_1$, we have\n",
        "\n",
        "$|| U_{h_2}-U_{h_1} ||_\\infty\\le || U-U_{h_1} ||_\\infty + || U-U_{h_2} ||_\\infty\\approx C h_1^k+C h_2^k \\approx C (1+\\theta^k) h_1^k$\n",
        "\n",
        "Now, given also $h_3 = \\theta h_2$, we have similarly\n",
        "\n",
        "$|| U_{h_3}-U_{h_2} ||_\\infty \\approx C (1+\\theta^k) h_2^k=C (1+\\theta^k)\\theta^k h_1^k$\n",
        "\n",
        "hence,\n",
        "\n",
        "$\\frac{|| U_{h_2}-U_{h_1} ||_\\infty}{|| U_{h_3}-U_{h_2} ||_\\infty}\\approx \\frac{C (1+\\theta^k) h_1^k}{C (1+\\theta^k)\\theta^k h_1^k}=\\theta^{-k}$\n",
        "\n",
        "from which $k$ can be estimated as before by passing to the logs.\n",
        "\n",
        "NOTE! The discrete solutions are defined at different sets of points so the above comparison is to be intended on the set of common points!"
      ]
    },
    {
      "cell_type": "markdown",
      "metadata": {
        "id": "N3UJHKF0XsQh"
      },
      "source": [
        "**Exercise:** try this out for the problem with $f=1$."
      ]
    }
  ],
  "metadata": {
    "colab": {
      "authorship_tag": "ABX9TyN+JiFMTNGfn4Pjuv5BRmFq",
      "include_colab_link": true,
      "name": "C3.ipynb",
      "provenance": []
    },
    "kernelspec": {
      "display_name": "Python 3",
      "name": "python3"
    },
    "language_info": {
      "codemirror_mode": {
        "name": "ipython",
        "version": 3
      },
      "file_extension": ".py",
      "mimetype": "text/x-python",
      "name": "python",
      "nbconvert_exporter": "python",
      "pygments_lexer": "ipython3",
      "version": "3.10.8"
    }
  },
  "nbformat": 4,
  "nbformat_minor": 0
}
