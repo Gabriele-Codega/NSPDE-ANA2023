{
  "nbformat": 4,
  "nbformat_minor": 0,
  "metadata": {
    "colab": {
      "name": "C3-FD2D.ipynb",
      "provenance": [],
      "authorship_tag": "ABX9TyOrvaRlIiym56fsFN32FVCS",
      "include_colab_link": true
    },
    "kernelspec": {
      "name": "python3",
      "display_name": "Python 3"
    },
    "language_info": {
      "name": "python"
    }
  },
  "cells": [
    {
      "cell_type": "markdown",
      "metadata": {
        "id": "view-in-github",
        "colab_type": "text"
      },
      "source": [
        "<a href=\"https://colab.research.google.com/github/andreacangiani/NSPDE-ANA2023/blob/main/Python/C4.ipynb\" target=\"_parent\"><img src=\"https://colab.research.google.com/assets/colab-badge.svg\" alt=\"Open In Colab\"/></a>"
      ]
    },
    {
      "cell_type": "markdown",
      "source": [
        "# Finite Difference in 2D"
      ],
      "metadata": {
        "id": "pIwHkV0G1O28"
      }
    },
    {
      "cell_type": "markdown",
      "source": [
        "1. Finite Difference solver for the 2D Poisson problem:\n",
        "\n",
        "$-\\Delta u=f \\quad \\in \\Omega=(a,b)^2$\n",
        "\n",
        "$u|_{\\partial\\Omega}=0$"
      ],
      "metadata": {
        "id": "1d8zfQGR1NRQ"
      }
    },
    {
      "cell_type": "code",
      "execution_count": 1,
      "metadata": {
        "id": "-JCGOvap0RHX"
      },
      "outputs": [],
      "source": [
        "import numpy as np\n",
        "import matplotlib.pyplot as plt\n",
        "from matplotlib import cm\n",
        "import scipy.sparse as sp\n",
        "from scipy.sparse.linalg import spsolve"
      ]
    },
    {
      "cell_type": "markdown",
      "source": [
        "Function computing the 2D FD algebric system"
      ],
      "metadata": {
        "id": "68WnP9Sw1bXx"
      }
    },
    {
      "cell_type": "code",
      "source": [
        "def FD2D(omega,N,rhs):\n",
        "  # FD system matrix and rhs in omega^2 for\n",
        "  # diffusion-advection-reaction problem with coeffs\n",
        "  # alpha,beta,gamma,rhs\n",
        "  # homogeneous Dirichlet bc\n",
        "  # uniform grid in sparse CSR format\n",
        "  # with Nx = Ny = N\n",
        "\n",
        "  # x and y axis grid\n",
        "  h = \n",
        "  x = \n",
        "  y = \n",
        "  # 2-dim grid\n",
        "  X, Y = np.meshgrid(x, y)\n",
        "  X = X.flatten() \n",
        "  Y = Y.flatten()\n",
        "\n",
        "  # compute rhs\n",
        "  F =\n",
        "  \n",
        "  # compute system matrix\n",
        "  coefs =\n",
        "  A =\n",
        "\n",
        "  # Implement boundary conditions\n",
        "\n",
        "  return"
      ],
      "metadata": {
        "id": "4_0d_cDa1A9Q"
      },
      "execution_count": 2,
      "outputs": []
    },
    {
      "cell_type": "markdown",
      "source": [
        "Define FD problem and solve with $(a,b)=(0,\n",
        "pi)$ and \n",
        "\n",
        "$u(x,y)=sin(x)*sin(y)$ \n",
        "\n",
        "hence \n",
        "\n",
        "$f=2* sin(x)*sin(y)$"
      ],
      "metadata": {
        "id": "RU2r9BNw1fCh"
      }
    },
    {
      "cell_type": "code",
      "source": [
        "omega = \n",
        "N = \n",
        "rhs = \n",
        "exact = \n",
        "\n",
        "# call function computing FD system\n",
        "A, F = \n",
        "\n",
        "# solve\n",
        "A = A.tocsr()\n",
        "Uh = \n"
      ],
      "metadata": {
        "id": "dpkgjfic1fwa"
      },
      "execution_count": 3,
      "outputs": []
    },
    {
      "cell_type": "markdown",
      "source": [
        "Plot solution"
      ],
      "metadata": {
        "id": "dTl-r4WJonGx"
      }
    },
    {
      "cell_type": "code",
      "source": [
        "# Prepare data for plotting \n",
        "x = np.linspace(omega[0],omega[1],N+1)\n",
        "y = x\n",
        "X, Y = np.meshgrid(x, y)\n",
        "Uh = Uh.reshape((N+1),(N+1))\n",
        "\n",
        "# Plot the solution\n",
        "fig, ax = plt.subplots(subplot_kw={\"projection\": \"3d\"})\n",
        "surf = ax.plot_surface(X, Y, Uh, cmap=cm.coolwarm,\n",
        "                       linewidth=0, antialiased=False)\n",
        "\n",
        "plt.show()"
      ],
      "metadata": {
        "id": "Vm8cfsRcolY3"
      },
      "execution_count": null,
      "outputs": []
    },
    {
      "cell_type": "markdown",
      "source": [
        "Compute discrete max norm error"
      ],
      "metadata": {
        "id": "1UmjdvJSpUa_"
      }
    },
    {
      "cell_type": "code",
      "source": [
        "# compute exact sol\n",
        "U = exact(X,Y)\n",
        "\n",
        "# Print discrete error\n",
        "print(np.max(np.max(np.abs(U-Uh))))"
      ],
      "metadata": {
        "id": "nPlZLHBZpZKn"
      },
      "execution_count": null,
      "outputs": []
    },
    {
      "cell_type": "markdown",
      "source": [
        "**Exercise 1**: Compute error and EOC\n",
        "\n",
        "**Exercise 2**: Generalise to more general elliptic problems (PDE and boundary) conditions"
      ],
      "metadata": {
        "id": "A7opZGIcqF3s"
      }
    }
  ]
}
