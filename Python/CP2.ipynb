{
  "cells": [
    {
      "cell_type": "markdown",
      "metadata": {
        "colab_type": "text",
        "id": "view-in-github"
      },
      "source": [
        "<a href=\"https://colab.research.google.com/github/andreacangiani/NSPDE-ANA2023/blob/main/Python/CP2.ipynb\" target=\"_parent\"><img src=\"https://colab.research.google.com/assets/colab-badge.svg\" alt=\"Open In Colab\"/></a>"
      ]
    },
    {
      "cell_type": "markdown",
      "metadata": {
        "id": "WLd_JqUTLlx7"
      },
      "source": [
        "# Divided differences using sparse matrix"
      ]
    },
    {
      "cell_type": "markdown",
      "metadata": {
        "id": "lAvcakieLgH4"
      },
      "source": [
        "Import the usual modules"
      ]
    },
    {
      "cell_type": "code",
      "execution_count": 1,
      "metadata": {
        "id": "UhR8FV_9KpLl"
      },
      "outputs": [],
      "source": [
        "import numpy as np\n",
        "import matplotlib.pyplot as plt\n",
        "import sympy as sym"
      ]
    },
    {
      "cell_type": "markdown",
      "metadata": {
        "id": "TEsSBeGDMz-9"
      },
      "source": [
        "New module: sparse algebra"
      ]
    },
    {
      "cell_type": "code",
      "execution_count": 2,
      "metadata": {
        "id": "knW_Lj85M3g2"
      },
      "outputs": [],
      "source": [
        "import scipy.sparse as sp"
      ]
    },
    {
      "cell_type": "markdown",
      "metadata": {
        "id": "AOx_KN1HLSBn"
      },
      "source": [
        "Function implementing the forward difference in sparse format"
      ]
    },
    {
      "cell_type": "code",
      "execution_count": 3,
      "metadata": {},
      "outputs": [
        {
          "name": "stdout",
          "output_type": "stream",
          "text": [
            "[[0.14228881 0.82297481 0.60083902]\n",
            " [0.41371239 0.59716736 0.29940793]\n",
            " [0.09792485 0.16313814 0.79971185]]\n"
          ]
        }
      ],
      "source": [
        "test = np.random.random((3,3))\n",
        "print(test)"
      ]
    },
    {
      "cell_type": "code",
      "execution_count": 4,
      "metadata": {},
      "outputs": [
        {
          "data": {
            "text/plain": [
              "array([0.82297481, 0.29940793])"
            ]
          },
          "execution_count": 4,
          "metadata": {},
          "output_type": "execute_result"
        }
      ],
      "source": [
        "test.diagonal(1)"
      ]
    },
    {
      "cell_type": "code",
      "execution_count": 6,
      "metadata": {},
      "outputs": [],
      "source": [
        "test+= np.diag(np.ones_like(test.diagonal(1)),1)"
      ]
    },
    {
      "cell_type": "code",
      "execution_count": 7,
      "metadata": {},
      "outputs": [
        {
          "data": {
            "text/plain": [
              "array([[0.14228881, 1.82297481, 0.60083902],\n",
              "       [0.41371239, 0.59716736, 1.29940793],\n",
              "       [0.09792485, 0.16313814, 0.79971185]])"
            ]
          },
          "execution_count": 7,
          "metadata": {},
          "output_type": "execute_result"
        }
      ],
      "source": [
        "test"
      ]
    },
    {
      "cell_type": "code",
      "execution_count": 12,
      "metadata": {
        "id": "bPMMOZh0LRd5"
      },
      "outputs": [],
      "source": [
        "def forward_difference(a, b, N):\n",
        "  h = (b-a)/N\n",
        " \n",
        "  # Compute FD matrix as sparse using Compressed Sparse Row (CSR) format \n",
        "  FD = -np.eye(N+1)\n",
        "  FD += np.diag(np.ones_like(FD.diagonal(1)),1)\n",
        "\n",
        "  FD = sp.csr_matrix(FD)\n",
        "  \n",
        "  return FD / h"
      ]
    },
    {
      "cell_type": "code",
      "execution_count": 67,
      "metadata": {},
      "outputs": [],
      "source": [
        "def forward_difference(a, b, N):\n",
        "  h = (b-a)/N\n",
        " \n",
        "  # Compute FD matrix as sparse using Compressed Sparse Row (CSR) format \n",
        "  data = [-np.ones(N+1),np.ones(N)]\n",
        "  FD = sp.diags(data,[0,1],format=\"csr\")\n",
        "  \n",
        "  return FD / h"
      ]
    },
    {
      "cell_type": "code",
      "execution_count": 68,
      "metadata": {
        "id": "DJ6b0gTXR63S"
      },
      "outputs": [],
      "source": [
        "a=0\n",
        "b=1\n",
        "N=5\n",
        "FD = forward_difference(a, b, N)"
      ]
    },
    {
      "cell_type": "code",
      "execution_count": 69,
      "metadata": {
        "id": "kecwHOrVSNSK"
      },
      "outputs": [
        {
          "name": "stdout",
          "output_type": "stream",
          "text": [
            "  (0, 0)\t-5.0\n",
            "  (0, 1)\t5.0\n",
            "  (1, 1)\t-5.0\n",
            "  (1, 2)\t5.0\n",
            "  (2, 2)\t-5.0\n",
            "  (2, 3)\t5.0\n",
            "  (3, 3)\t-5.0\n",
            "  (3, 4)\t5.0\n",
            "  (4, 4)\t-5.0\n",
            "  (4, 5)\t5.0\n",
            "  (5, 5)\t-5.0\n"
          ]
        }
      ],
      "source": [
        "print (FD)"
      ]
    },
    {
      "cell_type": "code",
      "execution_count": 70,
      "metadata": {
        "id": "lUfU966YSY9U"
      },
      "outputs": [
        {
          "name": "stdout",
          "output_type": "stream",
          "text": [
            "[[-5.  5.  0.  0.  0.  0.]\n",
            " [ 0. -5.  5.  0.  0.  0.]\n",
            " [ 0.  0. -5.  5.  0.  0.]\n",
            " [ 0.  0.  0. -5.  5.  0.]\n",
            " [ 0.  0.  0.  0. -5.  5.]\n",
            " [ 0.  0.  0.  0.  0. -5.]]\n"
          ]
        }
      ],
      "source": [
        "print(FD.todense())"
      ]
    },
    {
      "cell_type": "markdown",
      "metadata": {
        "id": "vFJoKMnYMThw"
      },
      "source": [
        "Use the FD to evaluate the derivative of $f(x)=\\frac{x^2}{2}$"
      ]
    },
    {
      "cell_type": "code",
      "execution_count": 71,
      "metadata": {
        "id": "6Nq2C60jL6PZ"
      },
      "outputs": [
        {
          "data": {
            "image/png": "[encoded data removed]",
            "text/plain": [
              "<Figure size 1000x400 with 2 Axes>"
            ]
          },
          "metadata": {},
          "output_type": "display_data"
        }
      ],
      "source": [
        "t = sym.var('t')\n",
        "my_f = 0.5 * t**2\n",
        "fsym = sym.lambdify(t, my_f )\n",
        "\n",
        "a=0 \n",
        "b=1\n",
        "N = 1000\n",
        "\n",
        "# Evaluate FD matrix\n",
        "FD = forward_difference(a, b, N)\n",
        "\n",
        "# Values of the derivative at the \n",
        "# internal grid points\n",
        "x=np.linspace(0,1,N+1)\n",
        "\n",
        "nd = FD.dot(fsym(x))[1:N]\n",
        "\n",
        "\n",
        "# Print results\n",
        "fig,ax = plt.subplots(nrows=1,ncols=2,figsize=(10,4))\n",
        "ax[0].plot(x[1:N],nd)\n",
        "ax[0].plot(x[1:N],nd)\n",
        "ax[1].plot(x[1:N],nd-x[1:N])\n",
        "fig.tight_layout()"
      ]
    },
    {
      "cell_type": "code",
      "execution_count": 33,
      "metadata": {},
      "outputs": [
        {
          "name": "stdout",
          "output_type": "stream",
          "text": [
            "13.8 µs ± 74.4 ns per loop (mean ± std. dev. of 7 runs, 100,000 loops each)\n",
            "109 µs ± 1.35 µs per loop (mean ± std. dev. of 7 runs, 10,000 loops each)\n"
          ]
        }
      ],
      "source": [
        "FD = forward_difference(a, b, N)\n",
        "fs = fsym(x)\n",
        "%timeit nd = FD.dot(fs) ## sparse is slower? yes, for small N\n",
        "FD = FD.todense()\n",
        "%timeit nd = FD.dot(fs)"
      ]
    },
    {
      "cell_type": "markdown",
      "metadata": {
        "id": "8sObv8G9YSof"
      },
      "source": [
        "**Exercise.** Find a way to evaluate execution time and compare full vs sparse exectution time"
      ]
    },
    {
      "cell_type": "markdown",
      "metadata": {
        "id": "3EVlhgPcKty_"
      },
      "source": [
        "# Central finite differences in 1D"
      ]
    },
    {
      "cell_type": "markdown",
      "metadata": {
        "id": "cPX73u-NK2Pq"
      },
      "source": [
        "Poisson problem in 1D:\n",
        "\n",
        "$-u''(x)=f(x) \\quad \\in (a,b)$\n",
        "\n",
        "$u(a)=0, \\quad u(b)=0$\n",
        "\n",
        "We use the second central divided difference to approxima the second derivative.\n",
        "\n",
        "Given $h>0$, \n",
        "\n",
        "$u''(x)≈\\frac{u(x+h)-2u(x)+u(x-h)}{h^2}$"
      ]
    },
    {
      "cell_type": "markdown",
      "metadata": {
        "id": "Uf1tUssmNf7d"
      },
      "source": [
        "Function for second central matrix"
      ]
    },
    {
      "cell_type": "code",
      "execution_count": 36,
      "metadata": {
        "id": "6AkrOqiXNcTJ"
      },
      "outputs": [],
      "source": [
        "def CD2(N):\n",
        "  # Function defining nominator of\n",
        "  # second central FD formula on a \n",
        "  # uniform grid in sparse CSR format\n",
        "  A = -2*np.eye(N+1)\n",
        "  A += np.diag(np.ones_like(A.diagonal(1)),1)\n",
        "  A += np.diag(np.ones_like(A.diagonal(1)),-1)\n",
        "  A = sp.csr_matrix(A)\n",
        "  return A\n",
        "\n"
      ]
    },
    {
      "cell_type": "code",
      "execution_count": 72,
      "metadata": {},
      "outputs": [],
      "source": [
        "def CD2(N):\n",
        "  # Function defining nominator of\n",
        "  # second central FD formula on a \n",
        "  # uniform grid in sparse CSR format\n",
        "  data = [np.ones(N),-2*np.ones(N+1),np.ones(N)]\n",
        "  A = sp.diags(data,[-1,0,1],format=\"csr\")\n",
        "  return A\n",
        "\n"
      ]
    },
    {
      "cell_type": "code",
      "execution_count": 73,
      "metadata": {
        "id": "KUOiecYxW5ES"
      },
      "outputs": [
        {
          "name": "stdout",
          "output_type": "stream",
          "text": [
            "[[-2.  1.  0.  0.  0.  0.]\n",
            " [ 1. -2.  1.  0.  0.  0.]\n",
            " [ 0.  1. -2.  1.  0.  0.]\n",
            " [ 0.  0.  1. -2.  1.  0.]\n",
            " [ 0.  0.  0.  1. -2.  1.]\n",
            " [ 0.  0.  0.  0.  1. -2.]]\n"
          ]
        }
      ],
      "source": [
        "N = 5\n",
        "A = CD2(N)\n",
        "\n",
        "print(A.todense())"
      ]
    },
    {
      "cell_type": "markdown",
      "metadata": {
        "id": "kQFF0QdiNvCt"
      },
      "source": [
        "Test problem:\n",
        "\n",
        "$(a,b)=(0,\\pi)$\n",
        "\n",
        "u(x)=sin(x)"
      ]
    },
    {
      "cell_type": "code",
      "execution_count": 38,
      "metadata": {
        "id": "6o6A_IUkNuMG"
      },
      "outputs": [],
      "source": [
        "# Define right-hand side function\n",
        "t = sym.var('t')\n",
        "my_f = sym.sin(t)\n",
        "rhs_f = sym.lambdify(t, my_f )\n",
        "\n",
        "# Define exact solution\n",
        "my_sol = sym.sin(t)\n",
        "exact_sol = sym.lambdify(t, my_sol )"
      ]
    },
    {
      "cell_type": "markdown",
      "metadata": {
        "id": "SWzKNz0vOOWW"
      },
      "source": [
        "Define FD problem:\n",
        "\n",
        "for $h=(b-a)/N$\n",
        "\n",
        "$ A U = - h^2 F $\n",
        "\n",
        "with $A$ the nominator of CD formula."
      ]
    },
    {
      "cell_type": "code",
      "execution_count": 74,
      "metadata": {
        "id": "9ZJJbGtGOME1"
      },
      "outputs": [],
      "source": [
        "# Problem domain\n",
        "a = 0\n",
        "b= np.pi\n",
        "\n",
        "# Size of grid\n",
        "N = 20\n",
        "h = (b-a)/N\n",
        "\n",
        "# Grid\n",
        "x=np.linspace(a,b,N+1)\n",
        "\n",
        "# CD matrix\n",
        "A = CD2(N)\n",
        "\n",
        "# Right-hand side\n",
        "F = -h*h*rhs_f(x[1:-1])\n",
        "\n",
        "# Homogeneous Dirichlet boundary conditions\n",
        "A = A[1:-1,1:-1]\n",
        "\n",
        "\n"
      ]
    },
    {
      "cell_type": "markdown",
      "metadata": {
        "id": "3civ7pL9bGQe"
      },
      "source": [
        "Import solver"
      ]
    },
    {
      "cell_type": "code",
      "execution_count": 4,
      "metadata": {
        "id": "BEJ07uM1bJ07"
      },
      "outputs": [],
      "source": [
        "from scipy.sparse.linalg import spsolve"
      ]
    },
    {
      "cell_type": "markdown",
      "metadata": {
        "id": "AKmPecQMO4Kr"
      },
      "source": [
        "Solve problem and print result"
      ]
    },
    {
      "cell_type": "code",
      "execution_count": 75,
      "metadata": {
        "id": "l7B-YKy9O5jF"
      },
      "outputs": [
        {
          "data": {
            "text/plain": [
              "[<matplotlib.lines.Line2D at 0x7f82e4ab5960>]"
            ]
          },
          "execution_count": 75,
          "metadata": {},
          "output_type": "execute_result"
        },
        {
          "data": {
            "image/png": "[encoded data removed]",
            "text/plain": [
              "<Figure size 640x480 with 1 Axes>"
            ]
          },
          "metadata": {},
          "output_type": "display_data"
        }
      ],
      "source": [
        "# Compute solution at internal nodes\n",
        "FD_sol = spsolve(A,F)\n",
        "\n",
        "# plot solution\n",
        "plt.plot(x[1:-1],FD_sol)"
      ]
    },
    {
      "cell_type": "code",
      "execution_count": 77,
      "metadata": {
        "id": "UQ9kqgtrZHom"
      },
      "outputs": [
        {
          "name": "stdout",
          "output_type": "stream",
          "text": [
            "0.002058706764533902\n"
          ]
        }
      ],
      "source": [
        "# print max error\n",
        "\n",
        "print(np.max(np.abs(FD_sol-exact_sol(x[1:-1]))))"
      ]
    },
    {
      "cell_type": "markdown",
      "metadata": {
        "id": "EbHL94cyPFWM"
      },
      "source": [
        "**Exercise 1.** test for convergence and plot convergence plot"
      ]
    },
    {
      "cell_type": "code",
      "execution_count": 80,
      "metadata": {},
      "outputs": [
        {
          "name": "stdout",
          "output_type": "stream",
          "text": [
            "[2.33700550e-01 5.30292875e-02 1.29507467e-02 3.21896444e-03\n",
            " 8.03577679e-04 2.00821810e-04 5.02009159e-05 1.25499455e-05]\n"
          ]
        }
      ],
      "source": [
        "# Problem domain\n",
        "a = 0\n",
        "b= np.pi\n",
        "\n",
        "# Size of grid\n",
        "N = 20\n",
        "h = (b-a)/N\n",
        "\n",
        "no_expe = 8\n",
        "error = np.zeros(no_expe)\n",
        "NN = np.zeros(no_expe)\n",
        "\n",
        "\n",
        "\n",
        "for i in range(no_expe):\n",
        "  N = 2**(i+1)\n",
        "  NN[i] = N\n",
        "  h = (b-a)/N\n",
        "\n",
        "\n",
        "  x = np.linspace(a,b,N+1)\n",
        "  F = -h*h*rhs_f(x[1:-1])\n",
        "  A = CD2(N)\n",
        "  A = A[1:-1,1:-1]\n",
        "\n",
        "  FD_sol = spsolve(A,F)\n",
        "\n",
        "  error[i] = max(abs(FD_sol- exact_sol(x[1:-1])))\n",
        "print(error)"
      ]
    },
    {
      "cell_type": "code",
      "execution_count": 83,
      "metadata": {},
      "outputs": [
        {
          "data": {
            "text/plain": [
              "[<matplotlib.lines.Line2D at 0x7f82e3bc57e0>]"
            ]
          },
          "execution_count": 83,
          "metadata": {},
          "output_type": "execute_result"
        },
        {
          "data": {
            "image/png": "[encoded data removed]",
            "text/plain": [
              "<Figure size 640x480 with 1 Axes>"
            ]
          },
          "metadata": {},
          "output_type": "display_data"
        }
      ],
      "source": [
        "plt.loglog(NN,error)"
      ]
    },
    {
      "cell_type": "markdown",
      "metadata": {
        "id": "T2QXoNYhP228"
      },
      "source": [
        "**Exercise 2.** Solve the problem with nonhomogeneous Dirichlet conditions:\n",
        "\n",
        "$-\\alpha u''(x)=f(x) \\quad \\in (a,b)$\n",
        "\n",
        "$u(a)=u_a, \\quad u(b)=u_b$"
      ]
    },
    {
      "cell_type": "markdown",
      "metadata": {
        "id": "PWX-C4sbQd-p"
      },
      "source": [
        "For example, you could fix: $(a,b)=(0,\\pi/2)$, solution $u$ as before, $\\alpha=\\frac{1}{2}$"
      ]
    },
    {
      "cell_type": "code",
      "execution_count": 23,
      "metadata": {},
      "outputs": [],
      "source": [
        "def FD1D_nhd(omega,N,rhs,ua,ub):\n",
        "    #stepsize\n",
        "    h = (omega[1]-omega[0])/N\n",
        "\n",
        "    #grid\n",
        "    x = np.linspace(omega[0],omega[1],N+1)\n",
        "\n",
        "    #data\n",
        "    data = [-np.ones(N),2*np.ones(N+1),-np.ones(N)]\n",
        "    A = 0.5/(h*h)*sp.diags(data,[-1,0,1],format = \"csr\")\n",
        "    #rhs\n",
        "    F = rhs(x)\n",
        "\n",
        "    #boundary conditions\n",
        "    A[0,0] = 1; A[0,1] = 0; F[0] = ua\n",
        "    A[N,N] = 1; A[N,N-1] = 0; F[N] = ub\n",
        "\n",
        "    return A,F"
      ]
    },
    {
      "cell_type": "code",
      "execution_count": 27,
      "metadata": {},
      "outputs": [
        {
          "name": "stdout",
          "output_type": "stream",
          "text": [
            "sin(0.5*t)\n"
          ]
        }
      ],
      "source": [
        "print(my_f)"
      ]
    },
    {
      "cell_type": "code",
      "execution_count": 31,
      "metadata": {},
      "outputs": [
        {
          "data": {
            "text/plain": [
              "[<matplotlib.lines.Line2D at 0x7f993b8edd50>]"
            ]
          },
          "execution_count": 31,
          "metadata": {},
          "output_type": "execute_result"
        },
        {
          "data": {
            "image/png": "[encoded data removed]",
            "text/plain": [
              "<Figure size 640x480 with 1 Axes>"
            ]
          },
          "metadata": {},
          "output_type": "display_data"
        }
      ],
      "source": [
        "omega = [0,np.pi/2]\n",
        "N = 20\n",
        "x = np.linspace(omega[0],omega[1],N+1)\n",
        "# Define right-hand side function\n",
        "rhs = lambda x: 0.5*np.sin(x)\n",
        "\n",
        "# Define exact solution\n",
        "exact_sol = lambda x: np.sin(x)\n",
        "\n",
        "A,F = FD1D_nhd(omega,N,rhs,0,1)\n",
        "\n",
        "U = spsolve(A,F)\n",
        "\n",
        "plt.plot(x,U)\n",
        "plt.plot(x,exact_sol(x))"
      ]
    },
    {
      "cell_type": "markdown",
      "metadata": {
        "id": "DwxTZDyTQ_cV"
      },
      "source": [
        "**Exercise 3.** Solve the problem with (homogeneous) Neumann conditions:\n",
        "\n",
        "$-\\alpha u''(x)=f(x) \\quad \\in (a,b)$\n",
        "\n",
        "$u(a)=u_a, \\quad u'(b)=0$"
      ]
    },
    {
      "cell_type": "markdown",
      "metadata": {
        "id": "aySe91zwRMq3"
      },
      "source": [
        "For example, you could fix: $(a,b)=(0,\\pi/2)$, solution $u$ as before, $\\alpha=1$."
      ]
    },
    {
      "cell_type": "code",
      "execution_count": 38,
      "metadata": {},
      "outputs": [],
      "source": [
        "def FD1D_hn(omega,N,rhs,ua):\n",
        "    #stepsize\n",
        "    h = (omega[1]-omega[0])/N\n",
        "\n",
        "    #grid\n",
        "    x = np.linspace(omega[0],omega[1],N+1)\n",
        "\n",
        "    #data\n",
        "    data = [-np.ones(N),2*np.ones(N+1),-np.ones(N)]\n",
        "    A = sp.diags(data,[-1,0,1],format = \"csr\")\n",
        "    #rhs\n",
        "    F = rhs(x)\n",
        "\n",
        "    #boundary conditions\n",
        "    A[0,0] = 1; A[0,1] = 0; F[0] = ua\n",
        "    A[N,N] = 2; A[N,N-1] = -2\n",
        "\n",
        "    return A/(h*h),F"
      ]
    },
    {
      "cell_type": "code",
      "execution_count": 44,
      "metadata": {},
      "outputs": [
        {
          "data": {
            "text/plain": [
              "[<matplotlib.lines.Line2D at 0x7f992101fe50>]"
            ]
          },
          "execution_count": 44,
          "metadata": {},
          "output_type": "execute_result"
        },
        {
          "data": {
            "image/png": "[encoded data removed]",
            "text/plain": [
              "<Figure size 640x480 with 1 Axes>"
            ]
          },
          "metadata": {},
          "output_type": "display_data"
        }
      ],
      "source": [
        "omega = [0,np.pi/2]\n",
        "N = 20\n",
        "x = np.linspace(omega[0],omega[1],N+1)\n",
        "# Define right-hand side function\n",
        "rhs = lambda x: np.sin(x)\n",
        "\n",
        "# Define exact solution\n",
        "exact_sol = lambda x: np.sin(x)\n",
        "\n",
        "A,F = FD1D_hn(omega,N,rhs,0)\n",
        "\n",
        "U = spsolve(A,F)\n",
        "\n",
        "plt.plot(x,U)\n",
        "plt.plot(x,exact_sol(x),\"-.\")"
      ]
    },
    {
      "cell_type": "markdown",
      "metadata": {
        "id": "MyrPdJSCSOeG"
      },
      "source": [
        "**Exercise 4.** Solve the reaction-advection-diffusion problem (still with central differences):\n",
        "\n",
        "$-\\alpha u''(x)+\\beta u'(x)+\\gamma u(x)=f(x) \\quad \\in (a,b)$\n",
        "\n",
        "$u(a)=u_a, \\quad u(b)=u_b$\n"
      ]
    },
    {
      "cell_type": "markdown",
      "metadata": {
        "id": "j8p08w7TRj34"
      },
      "source": [
        "**Exercise 5.** Now take any of the problems above, but this time with data such that you do not know the exact solution. How would you test the order of convergence of the FD method?"
      ]
    },
    {
      "cell_type": "markdown",
      "metadata": {
        "id": "V7wJbF9dcdqr"
      },
      "source": [
        "**Exersie 6.** Consider again the problem from Exercise 4.\n",
        "\n",
        "Fix $a=0$, $b=1$, $u_a=1$, $u_b=0$ $f=0$.\n",
        "\n",
        "Try first with $\\alpha=\\beta=\\gamma=1$ and plot the solution.\n",
        "\n",
        "Next, try with $\\alpha=0.01$, and $\\beta=1$, $\\gamma=0$. What happens? Can you explain?"
      ]
    }
  ],
  "metadata": {
    "colab": {
      "authorship_tag": "ABX9TyN/QeU1+2gcxd6uxUiuoQuI",
      "include_colab_link": true,
      "provenance": []
    },
    "kernelspec": {
      "display_name": "Python 3",
      "name": "python3"
    },
    "language_info": {
      "codemirror_mode": {
        "name": "ipython",
        "version": 3
      },
      "file_extension": ".py",
      "mimetype": "text/x-python",
      "name": "python",
      "nbconvert_exporter": "python",
      "pygments_lexer": "ipython3",
      "version": "3.10.8"
    }
  },
  "nbformat": 4,
  "nbformat_minor": 0
}
