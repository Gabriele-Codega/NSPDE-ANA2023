{
  "nbformat": 4,
  "nbformat_minor": 0,
  "metadata": {
    "colab": {
      "name": "C3.ipynb",
      "provenance": [],
      "authorship_tag": "ABX9TyN1xgscZBFIZw9mlvlkZHuF",
      "include_colab_link": true
    },
    "kernelspec": {
      "name": "python3",
      "display_name": "Python 3"
    },
    "language_info": {
      "name": "python"
    }
  },
  "cells": [
    {
      "cell_type": "markdown",
      "metadata": {
        "id": "view-in-github",
        "colab_type": "text"
      },
      "source": [
        "<a href=\"https://colab.research.google.com/github/andreacangiani/NSPDE-ANA2023/blob/main/Python/CP3_worked.ipynb\" target=\"_parent\"><img src=\"https://colab.research.google.com/assets/colab-badge.svg\" alt=\"Open In Colab\"/></a>"
      ]
    },
    {
      "cell_type": "markdown",
      "source": [
        "# Finite Difference for 1D reaction-advection-diffusion problem"
      ],
      "metadata": {
        "id": "EYPTFFAQN3BY"
      }
    },
    {
      "cell_type": "markdown",
      "source": [
        "1. Finite Difference solver for the reaction-advection-diffusion problem:\n",
        "\n",
        "$-\\alpha u''(x)+\\beta u'(x)+\\gamma u(x)=f(x) \\quad \\in (a,b)$\n",
        "\n",
        "$u(a)=0, \\quad u(b)=0$"
      ],
      "metadata": {
        "id": "VXF0WBPFNRtO"
      }
    },
    {
      "cell_type": "code",
      "execution_count": 1,
      "metadata": {
        "id": "cVTxIyM7NFyh"
      },
      "outputs": [],
      "source": [
        "import numpy as np\n",
        "import matplotlib.pyplot as plt\n",
        "import scipy.sparse as sp\n",
        "from scipy.sparse.linalg import spsolve"
      ]
    },
    {
      "cell_type": "markdown",
      "source": [
        "Function computing the 1D FD algebric system"
      ],
      "metadata": {
        "id": "SRJ5pqdRPUtH"
      }
    },
    {
      "cell_type": "code",
      "source": [
        "def FD1D(omega,N,alpha,beta,gamma,rhs):\n",
        "  # FD system matrix and rhs for\n",
        "  # diffusion-advection-reaction problem with coeffs\n",
        "  # alpha,beta,gamma,rhs\n",
        "  # homogeneous Dirichlet bc\n",
        "  # uniform grid in sparse CSR format\n",
        "\n",
        "  # grid\n",
        "  h = (omega[1]-omega[0])/N\n",
        "  x = np.linspace(omega[0],omega[1],N+1)\n",
        "\n",
        "  # compute coeffs\n",
        "  diff = alpha(x)\n",
        "  conv = beta(x)\n",
        "  reac = gamma(x)\n",
        "  f = rhs(x[1:-1])\n",
        "  \n",
        "  diff_term = [-diff[1:N+1], 2*diff, -diff[0:-1]]\n",
        "  conv_term = [-conv[1:N+1], conv[0:-1]]\n",
        "\n",
        "  A = (1./h**2) * sp.diags(diff_term,[-1,0,1],format=\"csr\") + (1./(2.*h)) * sp.diags(conv_term,[-1,1],format=\"csr\") + sp.diags(reac,0,format=\"csr\")\n",
        "\n",
        "  return A[1:-1,1:-1], f"
      ],
      "metadata": {
        "id": "vdKU9vmTOI72"
      },
      "execution_count": 2,
      "outputs": []
    },
    {
      "cell_type": "markdown",
      "source": [
        "Define FD problem and solve"
      ],
      "metadata": {
        "id": "kmjRdyh3PcKK"
      }
    },
    {
      "cell_type": "code",
      "source": [
        "# Define FD problem and solve\n",
        "\n",
        "# Problem domain\n",
        "omega = [0,np.pi]\n",
        "\n",
        "alpha = lambda x : 0.01 * np.ones(len(x))\n",
        "beta = lambda x : 1. * np.ones(len(x))\n",
        "gamma = lambda x : 0. * np.ones(len(x))\n",
        "rhs = lambda x : 1. * np.ones(len(x))\n",
        "\n",
        "\n",
        "# grid\n",
        "N=50\n",
        "x = np.linspace(omega[0],omega[1],N+1)\n",
        "\n",
        "A, F = FD1D(omega,N,alpha,beta,gamma,rhs)\n",
        "\n",
        "Uh = sp.linalg.spsolve(A,F)\n",
        "\n",
        "Uh = np.insert(Uh,[0, N-1], [0., 0.])\n",
        "#FD_sol = np.append(np.append([0], FD_sol), [0])\n",
        "\n",
        "plt.plot(x,Uh)"
      ],
      "metadata": {
        "id": "6W46kuk6PguW"
      },
      "execution_count": null,
      "outputs": []
    },
    {
      "cell_type": "markdown",
      "source": [
        "Repeat exercise with larger system including boundary conditions"
      ],
      "metadata": {
        "id": "shVPIPkmTlQy"
      }
    },
    {
      "cell_type": "code",
      "source": [
        "def FD1Do(omega,N,alpha,beta,gamma,rhs):\n",
        "  # FD system matrix and rhs for\n",
        "  # diffusion-advection-reaction problem with coeffs\n",
        "  # alpha,beta,gamma,rhs\n",
        "  # homogeneous Dirichlet bc\n",
        "  # uniform grid in sparse CSR format\n",
        "\n",
        "  # grid\n",
        "  h = (omega[1]-omega[0])/N\n",
        "  x = np.linspace(omega[0],omega[1],N+1)\n",
        "\n",
        "  # compute coeffs\n",
        "  diff = alpha(x)\n",
        "  conv = beta(x)\n",
        "  reac = gamma(x)\n",
        "  F = rhs(x)\n",
        "  \n",
        "  diff_term = [-diff[1:N+1], 2*diff, -diff[0:-1]]\n",
        "  conv_term = [-conv[1:N+1], conv[0:-1]]\n",
        "\n",
        "  A = (1./h**2) * sp.diags(diff_term,[-1,0,1],format=\"csr\") + (1./(2.*h)) * sp.diags(conv_term,[-1,1],format=\"csr\") + sp.diags(reac,0,format=\"csr\")\n",
        "\n",
        "  A[0,0] = 1; A[0,1] = 0; F[0]=0\n",
        "  A[N,N] = 1; A[N,N-1] = 0; F[N]=0\n",
        "\n",
        "  return A, F"
      ],
      "metadata": {
        "id": "Csg0gbiITqSg"
      },
      "execution_count": null,
      "outputs": []
    },
    {
      "cell_type": "markdown",
      "source": [
        "Solve again with new routine"
      ],
      "metadata": {
        "id": "gRfVSvNTJg03"
      }
    },
    {
      "cell_type": "code",
      "source": [
        "alpha = lambda x : .1 * np.ones(len(x))\n",
        "beta = lambda x :  1. * np.ones(len(x))\n",
        "gamma = lambda x : 1. * np.ones(len(x))\n",
        "rhs = lambda x :   1. * np.ones(len(x))\n",
        "\n",
        "# Grid\n",
        "N=50\n",
        "h = (omega[1]-omega[0])/N\n",
        "x = np.linspace(omega[0],omega[1],N+1)\n",
        "\n",
        "# FD system\n",
        "A, F = FD1Do(omega,N,alpha,beta,gamma,rhs)\n",
        "\n",
        "# solve\n",
        "U = sp.linalg.spsolve(A,F)\n",
        "\n",
        "plt.plot(x,U)"
      ],
      "metadata": {
        "id": "ZOZf2ZiTJjO5"
      },
      "execution_count": null,
      "outputs": []
    },
    {
      "cell_type": "markdown",
      "source": [
        "Compute experimental order of convergence (EOC) using knowledge that \n",
        "\n",
        "$|| U-U_h ||_\\infty \\approx C h^k$\n",
        "\n",
        "with $C$ independent of $h$. Hence,\n",
        "\n",
        "$\\frac{|| U-U_{h_1} ||_\\infty}{|| U-U_{h_2} ||_\\infty}\\approx\\large(\\frac{h_1}{h_2}\\large)^k$,\n",
        "\n",
        "and then,\n",
        "\n",
        "$k\\approx\\frac{\\log || U-U_{h_1} ||_\\infty-\\log|| U-U_{h_2} ||_\\infty}{\\log h_1 - \\log h_2}$.\n",
        "\n",
        "Notice that to estimate the EOC you need to run at least two experiments, for instance with $h_1=h$, $h_2=h/2$."
      ],
      "metadata": {
        "id": "ohPbdO6sTsaw"
      }
    },
    {
      "cell_type": "code",
      "source": [
        "# Problem domain\n",
        "omega = [0,np.pi]\n",
        "\n",
        "alpha = lambda x : 1. * np.ones(len(x))\n",
        "beta = lambda x :  0. * np.ones(len(x))\n",
        "gamma = lambda x : 0. * np.ones(len(x))\n",
        "rhs =   lambda x : np.sin(x)\n",
        "sol =   lambda x : np.sin(x)\n",
        "\n",
        "# Fix number of experiments\n",
        "no_experiments = 12\n",
        "\n",
        "# initialise with first experiment\n",
        "N = 5\n",
        "h = (omega[1]-omega[0])/N\n",
        "x = np.linspace(omega[0],omega[1],N+1)\n",
        "\n",
        "# evaluate system for given N\n",
        "A, F = FD1D(omega,N,alpha,beta,gamma,rhs)\n",
        "# Solve\n",
        "U = sp.linalg.spsolve(A,F)\n",
        "# compute error\n",
        "err1 = max(abs(U-sol(x)[1:N]))\n",
        "h1 = h\n",
        "\n",
        "for i in range(no_experiments-1):\n",
        "  # fix the mesh\n",
        "  N= 2 * N\n",
        "  print(N)\n",
        "  h = (omega[1]-omega[0])/N \n",
        "  x = np.linspace(omega[0],omega[1],N+1)\n",
        "  # evaluate system for given N\n",
        "  A, F = FD1D(omega,N,alpha,beta,gamma,rhs)\n",
        "  # Solve\n",
        "  U = sp.linalg.spsolve(A,F)\n",
        "  # Compute error \n",
        "  err2 = max(abs(U-sol(x)[1:N]))\n",
        "  print((np.log(err1)-np.log(err2))/(np.log(h1)-np.log(h)))\n",
        "\n",
        "  # Update\n",
        "  err1 = err2\n",
        "  h1 = h \n",
        "\n"
      ],
      "metadata": {
        "id": "34lm792MXmOu"
      },
      "execution_count": null,
      "outputs": []
    },
    {
      "cell_type": "markdown",
      "source": [
        "What if the exact solution is not known? Then we can still estiate the EOC but three experiments. Indeed, letting $h_2=\\theta h_1$, we have\n",
        "\n",
        "$|| U_{h_2}-U_{h_1} ||_\\infty\\le || U-U_{h_1} ||_\\infty + || U-U_{h_2} ||_\\infty\\approx C h_1^k+C h_2^k \\approx C (1+\\theta^k) h_1^k$\n",
        "\n",
        "Now, given also $h_3 = \\theta h_2$, we have similarly\n",
        "\n",
        "$|| U_{h_3}-U_{h_2} ||_\\infty \\approx C (1+\\theta^k) h_2^k=C (1+\\theta^k)\\theta^k h_1^k$\n",
        "\n",
        "hence,\n",
        "\n",
        "$\\frac{|| U_{h_2}-U_{h_1} ||_\\infty}{|| U_{h_3}-U_{h_2} ||_\\infty}\\approx \\frac{C (1+\\theta^k) h_1^k}{C (1+\\theta^k)\\theta^k h_1^k}=\\theta^{-k}$\n",
        "\n",
        "from which $k$ can be estimated as before by passing to the logs.\n",
        "\n",
        "NOTE! The discrete solutions are defined at different sets of points so the above comparison is to be intended on the set of common points!"
      ],
      "metadata": {
        "id": "1qj6q7X1Xmwm"
      }
    },
    {
      "cell_type": "markdown",
      "source": [
        "**Exercise:** try this out for the problem with $f=1$."
      ],
      "metadata": {
        "id": "N3UJHKF0XsQh"
      }
    }
  ]
}