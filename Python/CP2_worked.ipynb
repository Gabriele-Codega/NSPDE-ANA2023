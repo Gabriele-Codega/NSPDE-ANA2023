{
  "nbformat": 4,
  "nbformat_minor": 0,
  "metadata": {
    "colab": {
      "provenance": [],
      "authorship_tag": "ABX9TyPRvVcxP4sxWDNy7Z7I33WA",
      "include_colab_link": true
    },
    "kernelspec": {
      "name": "python3",
      "display_name": "Python 3"
    },
    "language_info": {
      "name": "python"
    }
  },
  "cells": [
    {
      "cell_type": "markdown",
      "metadata": {
        "id": "view-in-github",
        "colab_type": "text"
      },
      "source": [
        "<a href=\"https://colab.research.google.com/github/andreacangiani/NSPDE-ANA2023/blob/main/Python/CP2_worked.ipynb\" target=\"_parent\"><img src=\"https://colab.research.google.com/assets/colab-badge.svg\" alt=\"Open In Colab\"/></a>"
      ]
    },
    {
      "cell_type": "markdown",
      "source": [
        "# Divided differences using sparse matrix"
      ],
      "metadata": {
        "id": "WLd_JqUTLlx7"
      }
    },
    {
      "cell_type": "markdown",
      "source": [
        "Import the usual modules"
      ],
      "metadata": {
        "id": "lAvcakieLgH4"
      }
    },
    {
      "cell_type": "code",
      "execution_count": 1,
      "metadata": {
        "id": "UhR8FV_9KpLl"
      },
      "outputs": [],
      "source": [
        "import numpy as np\n",
        "import matplotlib.pyplot as plt\n",
        "import sympy as sym"
      ]
    },
    {
      "cell_type": "markdown",
      "source": [
        "New module: sparse algebra"
      ],
      "metadata": {
        "id": "TEsSBeGDMz-9"
      }
    },
    {
      "cell_type": "code",
      "source": [
        "import scipy.sparse as sp"
      ],
      "metadata": {
        "id": "knW_Lj85M3g2"
      },
      "execution_count": 2,
      "outputs": []
    },
    {
      "cell_type": "markdown",
      "source": [
        "Function implementing the forward difference in sparse format"
      ],
      "metadata": {
        "id": "AOx_KN1HLSBn"
      }
    },
    {
      "cell_type": "code",
      "source": [
        "def forward_difference(a, b, N):\n",
        "  h = (b-a)/N\n",
        " \n",
        "  # Compute FD matrix as sparse using Compressed Sparse Row (CSR) format\n",
        "  data = [-np.ones(N+1), np.ones(N)]\n",
        "  FD = sp.diags(data,[0,1], format=\"csr\")\n",
        "\n",
        "\n",
        "  return FD / h"
      ],
      "metadata": {
        "id": "bPMMOZh0LRd5"
      },
      "execution_count": 5,
      "outputs": []
    },
    {
      "cell_type": "code",
      "source": [
        "a=0\n",
        "b=1\n",
        "N=5\n",
        "FD = forward_difference(a, b, N)"
      ],
      "metadata": {
        "id": "DJ6b0gTXR63S"
      },
      "execution_count": 6,
      "outputs": []
    },
    {
      "cell_type": "code",
      "source": [
        "print (FD)"
      ],
      "metadata": {
        "id": "kecwHOrVSNSK",
        "outputId": "f62e368c-7e7b-46c4-e090-e5419d0324b9",
        "colab": {
          "base_uri": "https://localhost:8080/"
        }
      },
      "execution_count": 7,
      "outputs": [
        {
          "output_type": "stream",
          "name": "stdout",
          "text": [
            "  (0, 0)\t-5.0\n",
            "  (0, 1)\t5.0\n",
            "  (1, 1)\t-5.0\n",
            "  (1, 2)\t5.0\n",
            "  (2, 2)\t-5.0\n",
            "  (2, 3)\t5.0\n",
            "  (3, 3)\t-5.0\n",
            "  (3, 4)\t5.0\n",
            "  (4, 4)\t-5.0\n",
            "  (4, 5)\t5.0\n",
            "  (5, 5)\t-5.0\n"
          ]
        }
      ]
    },
    {
      "cell_type": "code",
      "source": [
        "print(FD.todense())"
      ],
      "metadata": {
        "id": "lUfU966YSY9U",
        "outputId": "bb5c6843-7162-4f4d-b393-6f4470d478e5",
        "colab": {
          "base_uri": "https://localhost:8080/"
        }
      },
      "execution_count": 8,
      "outputs": [
        {
          "output_type": "stream",
          "name": "stdout",
          "text": [
            "[[-5.  5.  0.  0.  0.  0.]\n",
            " [ 0. -5.  5.  0.  0.  0.]\n",
            " [ 0.  0. -5.  5.  0.  0.]\n",
            " [ 0.  0.  0. -5.  5.  0.]\n",
            " [ 0.  0.  0.  0. -5.  5.]\n",
            " [ 0.  0.  0.  0.  0. -5.]]\n"
          ]
        }
      ]
    },
    {
      "cell_type": "markdown",
      "source": [
        "Use the FD to evaluate the derivative of $f(x)=\\frac{x^2}{2}$"
      ],
      "metadata": {
        "id": "vFJoKMnYMThw"
      }
    },
    {
      "cell_type": "code",
      "source": [
        "t = sym.var('t')\n",
        "my_f = 0.5 * t**2\n",
        "fsym = sym.lambdify(t, my_f )\n",
        "\n",
        "a=0 \n",
        "b=1\n",
        "N = 100\n",
        "\n",
        "# Evaluate FD matrix\n",
        "FD = forward_difference(a, b, N)\n",
        "\n",
        "# Values of the derivative at the \n",
        "# internal grid points\n",
        "x=np.linspace(0,1,N+1)\n",
        "\n",
        "u_x = FD.dot(fsym(x))[1:N]\n",
        "\n",
        "# Print results\n",
        "print(u_x)"
      ],
      "metadata": {
        "id": "6Nq2C60jL6PZ",
        "outputId": "359ed867-4e6b-4245-d748-64834c49cf28",
        "colab": {
          "base_uri": "https://localhost:8080/"
        }
      },
      "execution_count": 9,
      "outputs": [
        {
          "output_type": "stream",
          "name": "stdout",
          "text": [
            "[0.015 0.025 0.035 0.045 0.055 0.065 0.075 0.085 0.095 0.105 0.115 0.125\n",
            " 0.135 0.145 0.155 0.165 0.175 0.185 0.195 0.205 0.215 0.225 0.235 0.245\n",
            " 0.255 0.265 0.275 0.285 0.295 0.305 0.315 0.325 0.335 0.345 0.355 0.365\n",
            " 0.375 0.385 0.395 0.405 0.415 0.425 0.435 0.445 0.455 0.465 0.475 0.485\n",
            " 0.495 0.505 0.515 0.525 0.535 0.545 0.555 0.565 0.575 0.585 0.595 0.605\n",
            " 0.615 0.625 0.635 0.645 0.655 0.665 0.675 0.685 0.695 0.705 0.715 0.725\n",
            " 0.735 0.745 0.755 0.765 0.775 0.785 0.795 0.805 0.815 0.825 0.835 0.845\n",
            " 0.855 0.865 0.875 0.885 0.895 0.905 0.915 0.925 0.935 0.945 0.955 0.965\n",
            " 0.975 0.985 0.995]\n"
          ]
        }
      ]
    },
    {
      "cell_type": "markdown",
      "source": [
        "**Exercise.** Find a way to evaluate execution time and compare full vs sparse exectution time"
      ],
      "metadata": {
        "id": "8sObv8G9YSof"
      }
    },
    {
      "cell_type": "markdown",
      "source": [
        "# Central finite differences in 1D"
      ],
      "metadata": {
        "id": "3EVlhgPcKty_"
      }
    },
    {
      "cell_type": "markdown",
      "source": [
        "Poisson problem in 1D:\n",
        "\n",
        "$-u''(x)=f(x) \\quad \\in (a,b)$\n",
        "\n",
        "$u(a)=0, \\quad u(b)=0$\n",
        "\n",
        "We use the second central divided difference to approxima the second derivative.\n",
        "\n",
        "Given $h>0$, \n",
        "\n",
        "$u''(x)≈\\frac{u(x+h)-2u(x)+u(x-h)}{h^2}$"
      ],
      "metadata": {
        "id": "cPX73u-NK2Pq"
      }
    },
    {
      "cell_type": "markdown",
      "source": [
        "Function for second central matrix"
      ],
      "metadata": {
        "id": "Uf1tUssmNf7d"
      }
    },
    {
      "cell_type": "code",
      "source": [
        "def CD2(N):\n",
        "  # Function defining nominator of\n",
        "  # second central FD formula on a \n",
        "  # uniform grid in sparse CSR format\n",
        "  data = [np.ones(N), -2*np.ones(N+1), np.ones(N)]\n",
        "  FD = sp.diags(data,[-1,0,1], format=\"csr\")\n",
        "  return FD"
      ],
      "metadata": {
        "id": "6AkrOqiXNcTJ"
      },
      "execution_count": 12,
      "outputs": []
    },
    {
      "cell_type": "code",
      "source": [
        "N = 5\n",
        "A = CD2(N)\n",
        "\n",
        "print(A.todense())"
      ],
      "metadata": {
        "id": "KUOiecYxW5ES",
        "outputId": "9bc5985d-5814-4bc9-fa70-27e57e678574",
        "colab": {
          "base_uri": "https://localhost:8080/"
        }
      },
      "execution_count": 13,
      "outputs": [
        {
          "output_type": "stream",
          "name": "stdout",
          "text": [
            "[[-2.  1.  0.  0.  0.  0.]\n",
            " [ 1. -2.  1.  0.  0.  0.]\n",
            " [ 0.  1. -2.  1.  0.  0.]\n",
            " [ 0.  0.  1. -2.  1.  0.]\n",
            " [ 0.  0.  0.  1. -2.  1.]\n",
            " [ 0.  0.  0.  0.  1. -2.]]\n"
          ]
        }
      ]
    },
    {
      "cell_type": "markdown",
      "source": [
        "Test problem:\n",
        "\n",
        "$(a,b)=(0,\\pi)$\n",
        "\n",
        "u(x)=sin(x)"
      ],
      "metadata": {
        "id": "kQFF0QdiNvCt"
      }
    },
    {
      "cell_type": "code",
      "source": [
        "# Define right-hand side function\n",
        "t = sym.var('t')\n",
        "my_f = sym.sin(t)\n",
        "rhs_f = sym.lambdify(t, my_f )\n",
        "\n",
        "# Define exact solution\n",
        "my_sol = sym.sin(t)\n",
        "exact_sol = sym.lambdify(t, my_sol )"
      ],
      "metadata": {
        "id": "6o6A_IUkNuMG"
      },
      "execution_count": 14,
      "outputs": []
    },
    {
      "cell_type": "markdown",
      "source": [
        "Define FD problem:\n",
        "\n",
        "for $h=(b-a)/N$\n",
        "\n",
        "$ A U = - h^2 F $\n",
        "\n",
        "with $A$ the nominator of CD formula."
      ],
      "metadata": {
        "id": "SWzKNz0vOOWW"
      }
    },
    {
      "cell_type": "code",
      "source": [
        "# Problem domain\n",
        "a = 0\n",
        "b= np.pi\n",
        "\n",
        "# Size of grid\n",
        "N = 20\n",
        "h = (b-a)/N\n",
        "\n",
        "# Grid\n",
        "x=np.linspace(a,b,N+1)\n",
        "\n",
        "# CD matrix\n",
        "A = CD2(N)\n",
        "\n",
        "\n",
        "# Right-hand side\n",
        "F = - h**2 * rhs_f(x[1:-1])\n",
        "\n",
        "# Homogeneous Dirichlet boundary conditions\n",
        "A = A[1:-1,1:-1]"
      ],
      "metadata": {
        "id": "9ZJJbGtGOME1"
      },
      "execution_count": 15,
      "outputs": []
    },
    {
      "cell_type": "markdown",
      "source": [
        "Import solver"
      ],
      "metadata": {
        "id": "3civ7pL9bGQe"
      }
    },
    {
      "cell_type": "code",
      "source": [
        "from scipy.sparse.linalg import spsolve"
      ],
      "metadata": {
        "id": "BEJ07uM1bJ07"
      },
      "execution_count": 16,
      "outputs": []
    },
    {
      "cell_type": "markdown",
      "source": [
        "Solve problem and print result"
      ],
      "metadata": {
        "id": "AKmPecQMO4Kr"
      }
    },
    {
      "cell_type": "code",
      "source": [
        "# Compute solution at internal nodes\n",
        "FD_sol = spsolve(A,F)\n",
        "\n",
        "# plot solution\n",
        "plt.plot(x[1:-1],FD_sol)"
      ],
      "metadata": {
        "id": "l7B-YKy9O5jF",
        "outputId": "7656ef88-175e-401a-dc0e-db4b884361cc",
        "colab": {
          "base_uri": "https://localhost:8080/",
          "height": 284
        }
      },
      "execution_count": 17,
      "outputs": [
        {
          "output_type": "execute_result",
          "data": {
            "text/plain": [
              "[<matplotlib.lines.Line2D at 0x7f7f7ef82670>]"
            ]
          },
          "metadata": {},
          "execution_count": 17
        },
        {
          "output_type": "display_data",
          "data": {
            "text/plain": [
              "<Figure size 432x288 with 1 Axes>"
            ],
            "image/png": "[encoded data removed]"
          },
          "metadata": {
            "needs_background": "light"
          }
        }
      ]
    },
    {
      "cell_type": "code",
      "source": [
        "# print max error\n",
        "\n",
        "print(np.max(np.abs(FD_sol-exact_sol(x[1:-1]))))"
      ],
      "metadata": {
        "id": "UQ9kqgtrZHom",
        "outputId": "a5779893-26a5-4ce3-f490-f206fb258f4f",
        "colab": {
          "base_uri": "https://localhost:8080/"
        }
      },
      "execution_count": 18,
      "outputs": [
        {
          "output_type": "stream",
          "name": "stdout",
          "text": [
            "0.002058706764533902\n"
          ]
        }
      ]
    },
    {
      "cell_type": "markdown",
      "source": [
        "**Exercise 1.** test for convergence and plot convergence plot"
      ],
      "metadata": {
        "id": "EbHL94cyPFWM"
      }
    },
    {
      "cell_type": "code",
      "source": [
        "# Problem domain\n",
        "a = 0\n",
        "b= np.pi\n",
        "\n",
        "# Define number of experiments\n",
        "no_expe = 8\n",
        "error = np.zeros(no_expe)\n",
        "NN = np.zeros(no_expe)\n",
        "\n",
        "# For loop \n",
        "for i in range(no_expe):\n",
        "  N = 2**(i+1)\n",
        "  NN[i] = N\n",
        "\n",
        "  h = (b-a)/N\n",
        "  x = np.linspace(a,b,N+1)\n",
        "\n",
        "  # CD matrix\n",
        "  A = CD2(N)\n",
        "  # Right-hand side\n",
        "  F = - h**2 * rhs_f(x[1:-1])\n",
        "  # Homogeneous Dirichlet boundary conditions\n",
        "  A = A[1:-1,1:-1]\n",
        "\n",
        "  FD_sol = spsolve(A,F)\n",
        "\n",
        "\n",
        "  error[i] = max(abs(FD_sol-exact_sol(x[1:-1])))\n",
        "\n",
        "print(error)"
      ],
      "metadata": {
        "id": "ZihwuLSFxa3I",
        "outputId": "76143569-0a94-49bb-c330-460bbd4ba390",
        "colab": {
          "base_uri": "https://localhost:8080/"
        }
      },
      "execution_count": 22,
      "outputs": [
        {
          "output_type": "stream",
          "name": "stdout",
          "text": [
            "[2.33700550e-01 5.30292875e-02 1.29507467e-02 3.21896444e-03\n",
            " 8.03577679e-04 2.00821810e-04 5.02009159e-05 1.25499455e-05]\n"
          ]
        }
      ]
    },
    {
      "cell_type": "code",
      "source": [
        "\n",
        "\n",
        "import matplotlib\n",
        "\n",
        "matplotlib.pyplot.loglog(NN,error)\n",
        "\n",
        "matplotlib.pyplot.loglog(NN,NN**(-2))\n",
        "     \n"
      ],
      "metadata": {
        "id": "5TNdtQCBzZ9V",
        "outputId": "396064fe-e6e2-4931-8262-11f2802ef48f",
        "colab": {
          "base_uri": "https://localhost:8080/",
          "height": 288
        }
      },
      "execution_count": 23,
      "outputs": [
        {
          "output_type": "execute_result",
          "data": {
            "text/plain": [
              "[<matplotlib.lines.Line2D at 0x7f7f7c6d8970>]"
            ]
          },
          "metadata": {},
          "execution_count": 23
        },
        {
          "output_type": "display_data",
          "data": {
            "text/plain": [
              "<Figure size 432x288 with 1 Axes>"
            ],
            "image/png": "[encoded data removed]"
          },
          "metadata": {
            "needs_background": "light"
          }
        }
      ]
    },
    {
      "cell_type": "markdown",
      "source": [
        "**Exercise 2.** Solve the problem with nonhomogeneous Dirichlet conditions:\n",
        "\n",
        "$-\\alpha u''(x)=f(x) \\quad \\in (a,b)$\n",
        "\n",
        "$u(a)=u_a, \\quad u(b)=u_b$"
      ],
      "metadata": {
        "id": "T2QXoNYhP228"
      }
    },
    {
      "cell_type": "markdown",
      "source": [
        "For example, you could fix: $(a,b)=(0,\\pi/2)$, solution $u$ as before, $\\alpha=\\frac{1}{2}$"
      ],
      "metadata": {
        "id": "PWX-C4sbQd-p"
      }
    },
    {
      "cell_type": "markdown",
      "source": [
        "**Exercise 3.** Solve the problem with (homogeneous) Neumann conditions:\n",
        "\n",
        "$-\\alpha u''(x)=f(x) \\quad \\in (a,b)$\n",
        "\n",
        "$u(a)=u_a, \\quad u'(b)=0$"
      ],
      "metadata": {
        "id": "DwxTZDyTQ_cV"
      }
    },
    {
      "cell_type": "markdown",
      "source": [
        "For example, you could fix: $(a,b)=(0,\\pi/2)$, solution $u$ as before, $\\alpha=1$."
      ],
      "metadata": {
        "id": "aySe91zwRMq3"
      }
    },
    {
      "cell_type": "markdown",
      "source": [
        "**Exercise 4.** Solve the reaction-advection-diffusion problem (still with central differences):\n",
        "\n",
        "$-\\alpha u''(x)+\\beta u'(x)+\\gamma u(x)=f(x) \\quad \\in (a,b)$\n",
        "\n",
        "$u(a)=u_a, \\quad u(b)=u_b$\n"
      ],
      "metadata": {
        "id": "MyrPdJSCSOeG"
      }
    },
    {
      "cell_type": "markdown",
      "source": [
        "**Exercise 5.** Now take any of the problems above, but this time with data such that you do not know the exact solution. How would you test the order of convergence of the FD method?"
      ],
      "metadata": {
        "id": "j8p08w7TRj34"
      }
    },
    {
      "cell_type": "markdown",
      "source": [
        "**Exersie 6.** Consider again the problem from Exercise 4.\n",
        "\n",
        "Fix $a=0$, $b=1$, $u_a=1$, $u_b=0$ $f=0$.\n",
        "\n",
        "Try first with $\\alpha=\\beta=\\gamma=1$ and plot the solution.\n",
        "\n",
        "Next, try with $\\alpha=0.01$, and $\\beta=1$, $\\gamma=0$. What happens? Can you explain?"
      ],
      "metadata": {
        "id": "V7wJbF9dcdqr"
      }
    }
  ]
}